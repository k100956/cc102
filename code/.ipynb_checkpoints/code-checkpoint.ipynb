{
 "cells": [
  {
   "cell_type": "code",
   "execution_count": 1,
   "metadata": {},
   "outputs": [
    {
     "name": "stdout",
     "output_type": "stream",
     "text": [
      "connect sucess!!\n"
     ]
    }
   ],
   "source": [
    "#製作flask環境\n",
    "from flask import Flask, request, jsonify\n",
    "import datetime\n",
    "\n",
    "\n",
    "app = Flask(__name__)\n",
    "#建立與mysql的連線\n",
    "import pymysql\n",
    "\n",
    "conn = pymysql.connect(host='chatbot_db', port=3306, user='root', passwd='iii', db='chatbot_db',charset='utf8mb4')\n",
    "print(\"connect sucess!!\")\n",
    "\n",
    "cur = conn.cursor()"
   ]
  },
  {
   "cell_type": "code",
   "execution_count": 2,
   "metadata": {},
   "outputs": [],
   "source": [
    "#新增使用者\n",
    "@app.route('/users',methods=['POST'])\n",
    "def add_user():\n",
    "    \n",
    "    time = datetime.datetime.utcnow().strftime(\"%Y%m%d%H%M\")\n",
    "    time = int(time)\n",
    "    a = request.get_json()\n",
    "    error = None\n",
    "    name = a['user_open_id']\n",
    "    #對ststus跟img還沒啥想法先不設定\n",
    "    if not a['user_register_menu']:\n",
    "        #完全沒想法先填一\n",
    "        a['user_register_menu'] = 1\n",
    "        \n",
    "    if not a['user_open_id']:\n",
    "        error = 'Userid is required.'\n",
    "    elif not a['user_nick_name']:\n",
    "        error = 'Username is required.'\n",
    "    elif cur.execute('SELECT user_open_id FROM chatbot_db.users WHERE user_open_id = (\"%s\")' % (name)).fetchone() is not None:\n",
    "        error = 'User {} is already registered.'.format(name)\n",
    "    \n",
    "    \n",
    "    if error is None:\n",
    "        insertsql=(\"INSERT INTO chatbot_db.users VALUES ( %s,%s,%s,%s,%s,%s )\") \n",
    "        value = (a['user_open_id'],a['user_nick_name'],a['user_status'],a['user_img'],time,a['user_register_menu'])\n",
    "        cur.execute(insertsql , value)\n",
    "        result =  { \"status_describe\":\"success add user\" }\n",
    "        return jsonify(result)\n",
    "    \n",
    "    \n",
    "    \n",
    "    result = {\"status_describe\":\"post body has not allow field {}\"}.format(error)\n",
    "    \n",
    "    return jsonify(result)"
   ]
  },
  {
   "cell_type": "code",
   "execution_count": 3,
   "metadata": {},
   "outputs": [],
   "source": [
    "@app.route('/users/<userid>',methods=['GET'])\n",
    "def read_user(userid):\n",
    "    user=cur.execute(\n",
    "        'SELECT * FROM chatbot_db.users WHERE user_open_id = (%s)', (userid,)\n",
    "        ).fetchone()\n",
    "    if user is not None:\n",
    "        #格式跟db內一樣舊部改了，只轉檔\n",
    "        return jsonify(user)\n",
    "    else:\n",
    "        result = {\n",
    "            \"status_describe\":\"Please enter the right id!!\"\n",
    "        }\n",
    "        return jsonify(result)"
   ]
  },
  {
   "cell_type": "code",
   "execution_count": null,
   "metadata": {},
   "outputs": [],
   "source": [
    "\n",
    "/users\n",
    "\n",
    "Querystring\n",
    "\n",
    "  user_open_id\n",
    "  user_nick_name\n",
    "\n",
    "200\n",
    "\n",
    "回傳格式與範例\n",
    "[ {user}, {user }   ]\n",
    "\n",
    "\n",
    "    [\n",
    "      {\n",
    "        \"user_open_id\":\"abcDemo\",\n",
    "        \"user_nick_name\":\"yoyo\",\n",
    "        \"user_status\" : \"haha\",\n",
    "        \"user_img\" : \"https://ddascd\",\n",
    "        \"user_register_date\" :  153030394,\n",
    "        \"user_register_menu\" : \"xxxxxxx\"\n",
    "      },\n",
    "      {\n",
    "        \n",
    "      }\n",
    "    ]\n",
    "\n",
    "403\n",
    "\n",
    "\n",
    "    {\n",
    "      \"status_describe\":\"query string {var} is incompatible\"\n",
    "    }"
   ]
  },
  {
   "cell_type": "code",
   "execution_count": null,
   "metadata": {},
   "outputs": [],
   "source": [
    "@app.route('/users',methods=['GET'])\n",
    "def read_users():\n",
    "    readsql =  'SELECT * FROM chatbot_db.users'\n",
    "    result = cur.execute(readsql)\n",
    "    \n",
    "    \n",
    "    \n",
    "    \n",
    "    \n",
    "\n",
    "\n"
   ]
  },
  {
   "cell_type": "code",
   "execution_count": 5,
   "metadata": {},
   "outputs": [],
   "source": [
    "@app.route('/question/sysops',methods=['GET'])\n",
    "def test_sys():\n",
    "    #目前資料庫不夠多就先不寫亂數了\n",
    "    a=1\n",
    "    readsql=('SELECT * FROM chatbot_db.assoc_sys_questions WHERE question_id=(\"%s\")' % (a))\n",
    "    cur.execute(readsql)\n",
    "    result=cur.fetchone()\n",
    "    \n",
    "    return jsonify(result)\n",
    "    "
   ]
  },
  {
   "cell_type": "code",
   "execution_count": 6,
   "metadata": {},
   "outputs": [],
   "source": [
    "@app.route('/question/sa',methods=['GET'])\n",
    "def test_sa():\n",
    "    #目前資料庫不夠多就先不寫亂數了\n",
    "    a=1\n",
    "    readsql=('SELECT * FROM chatbot_db.assoc_sa_questions WHERE question_id=(\"%s\")' % (a))\n",
    "    cur.execute(readsql)\n",
    "    result=cur.fetchone()\n",
    "    \n",
    "    return jsonify(result)"
   ]
  },
  {
   "cell_type": "code",
   "execution_count": 7,
   "metadata": {},
   "outputs": [],
   "source": [
    "@app.route('/question/devlop',methods=['GET'])\n",
    "def test_dev():\n",
    "    #目前資料庫不夠多就先不寫亂數了\n",
    "    a=1\n",
    "    readsql=('SELECT * FROM chatbot_db.assoc_devlop_questions WHERE question_id=(\"%s\")' % (a))\n",
    "    cur.execute(readsql)\n",
    "    result=cur.fetchone()\n",
    "    \n",
    "    return jsonify(result)"
   ]
  },
  {
   "cell_type": "code",
   "execution_count": null,
   "metadata": {},
   "outputs": [
    {
     "name": "stderr",
     "output_type": "stream",
     "text": [
      " * Running on http://0.0.0.0:5000/ (Press CTRL+C to quit)\n"
     ]
    }
   ],
   "source": [
    "if __name__=='__main__':\n",
    "    app.run(host='0.0.0.0',port=5000)"
   ]
  },
  {
   "cell_type": "code",
   "execution_count": null,
   "metadata": {},
   "outputs": [],
   "source": []
  }
 ],
 "metadata": {
  "kernelspec": {
   "display_name": "Python 3",
   "language": "python",
   "name": "python3"
  },
  "language_info": {
   "codemirror_mode": {
    "name": "ipython",
    "version": 3
   },
   "file_extension": ".py",
   "mimetype": "text/x-python",
   "name": "python",
   "nbconvert_exporter": "python",
   "pygments_lexer": "ipython3",
   "version": "3.6.5"
  }
 },
 "nbformat": 4,
 "nbformat_minor": 2
}
